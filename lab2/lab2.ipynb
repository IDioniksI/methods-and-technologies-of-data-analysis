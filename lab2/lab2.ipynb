{
 "cells": [
  {
   "cell_type": "markdown",
   "id": "377446c808c2bc7c",
   "metadata": {},
   "source": [
    "## <center>Методи та технології аналітики даних</center>\n",
    "## <center>Лабораторна робота №2</center>\n",
    "#### <center>ФБ-25 Кравченко Максим</center>"
   ]
  },
  {
   "cell_type": "code",
   "execution_count": 32,
   "id": "c58e144934c0dc10",
   "metadata": {
    "ExecuteTime": {
     "end_time": "2024-09-26T14:04:16.069829Z",
     "start_time": "2024-09-26T14:04:15.256323Z"
    }
   },
   "outputs": [],
   "source": [
    "import pandas as pd\n",
    "from scipy import stats\n",
    "import matplotlib.pyplot as plt\n",
    "import seaborn as sns"
   ]
  },
  {
   "cell_type": "markdown",
   "id": "3f6710af7a1bcaca",
   "metadata": {},
   "source": [
    "Беремо той ж самий датасет, що і в попередній лабораторній роботі"
   ]
  },
  {
   "cell_type": "code",
   "execution_count": 2,
   "id": "44e9463fe3e2e0d6",
   "metadata": {
    "ExecuteTime": {
     "end_time": "2024-09-26T11:56:33.496656Z",
     "start_time": "2024-09-26T11:56:33.329771Z"
    }
   },
   "outputs": [
    {
     "data": {
      "text/html": [
       "<div>\n",
       "<style scoped>\n",
       "    .dataframe tbody tr th:only-of-type {\n",
       "        vertical-align: middle;\n",
       "    }\n",
       "\n",
       "    .dataframe tbody tr th {\n",
       "        vertical-align: top;\n",
       "    }\n",
       "\n",
       "    .dataframe thead th {\n",
       "        text-align: right;\n",
       "    }\n",
       "</style>\n",
       "<table border=\"1\" class=\"dataframe\">\n",
       "  <thead>\n",
       "    <tr style=\"text-align: right;\">\n",
       "      <th></th>\n",
       "      <th>Age</th>\n",
       "      <th>Work_class</th>\n",
       "      <th>Final_weight</th>\n",
       "      <th>Education</th>\n",
       "      <th>Education_num</th>\n",
       "      <th>Marital_status</th>\n",
       "      <th>Occupation</th>\n",
       "      <th>Relationship</th>\n",
       "      <th>Race</th>\n",
       "      <th>Sex</th>\n",
       "      <th>Capital_gain</th>\n",
       "      <th>Capital_loss</th>\n",
       "      <th>Hours_per_week</th>\n",
       "      <th>Native_country</th>\n",
       "      <th>Income</th>\n",
       "    </tr>\n",
       "  </thead>\n",
       "  <tbody>\n",
       "    <tr>\n",
       "      <th>0</th>\n",
       "      <td>38</td>\n",
       "      <td>Private</td>\n",
       "      <td>215646</td>\n",
       "      <td>HS-grad</td>\n",
       "      <td>9</td>\n",
       "      <td>Divorced</td>\n",
       "      <td>Handlers-cleaners</td>\n",
       "      <td>Not-in-family</td>\n",
       "      <td>White</td>\n",
       "      <td>Male</td>\n",
       "      <td>0</td>\n",
       "      <td>0</td>\n",
       "      <td>40</td>\n",
       "      <td>United-States</td>\n",
       "      <td>&lt;=50K</td>\n",
       "    </tr>\n",
       "    <tr>\n",
       "      <th>1</th>\n",
       "      <td>53</td>\n",
       "      <td>Private</td>\n",
       "      <td>234721</td>\n",
       "      <td>11th</td>\n",
       "      <td>7</td>\n",
       "      <td>Married-civ-spouse</td>\n",
       "      <td>Handlers-cleaners</td>\n",
       "      <td>Husband</td>\n",
       "      <td>Black</td>\n",
       "      <td>Male</td>\n",
       "      <td>0</td>\n",
       "      <td>0</td>\n",
       "      <td>40</td>\n",
       "      <td>United-States</td>\n",
       "      <td>&lt;=50K</td>\n",
       "    </tr>\n",
       "    <tr>\n",
       "      <th>2</th>\n",
       "      <td>28</td>\n",
       "      <td>Private</td>\n",
       "      <td>338409</td>\n",
       "      <td>Bachelors</td>\n",
       "      <td>13</td>\n",
       "      <td>Married-civ-spouse</td>\n",
       "      <td>Prof-specialty</td>\n",
       "      <td>Wife</td>\n",
       "      <td>Black</td>\n",
       "      <td>Female</td>\n",
       "      <td>0</td>\n",
       "      <td>0</td>\n",
       "      <td>40</td>\n",
       "      <td>Cuba</td>\n",
       "      <td>&lt;=50K</td>\n",
       "    </tr>\n",
       "    <tr>\n",
       "      <th>3</th>\n",
       "      <td>37</td>\n",
       "      <td>Private</td>\n",
       "      <td>284582</td>\n",
       "      <td>Masters</td>\n",
       "      <td>14</td>\n",
       "      <td>Married-civ-spouse</td>\n",
       "      <td>Exec-managerial</td>\n",
       "      <td>Wife</td>\n",
       "      <td>White</td>\n",
       "      <td>Female</td>\n",
       "      <td>0</td>\n",
       "      <td>0</td>\n",
       "      <td>40</td>\n",
       "      <td>United-States</td>\n",
       "      <td>&lt;=50K</td>\n",
       "    </tr>\n",
       "    <tr>\n",
       "      <th>4</th>\n",
       "      <td>49</td>\n",
       "      <td>Private</td>\n",
       "      <td>160187</td>\n",
       "      <td>9th</td>\n",
       "      <td>5</td>\n",
       "      <td>Married-spouse-absent</td>\n",
       "      <td>Other-service</td>\n",
       "      <td>Not-in-family</td>\n",
       "      <td>Black</td>\n",
       "      <td>Female</td>\n",
       "      <td>0</td>\n",
       "      <td>0</td>\n",
       "      <td>16</td>\n",
       "      <td>Jamaica</td>\n",
       "      <td>&lt;=50K</td>\n",
       "    </tr>\n",
       "    <tr>\n",
       "      <th>...</th>\n",
       "      <td>...</td>\n",
       "      <td>...</td>\n",
       "      <td>...</td>\n",
       "      <td>...</td>\n",
       "      <td>...</td>\n",
       "      <td>...</td>\n",
       "      <td>...</td>\n",
       "      <td>...</td>\n",
       "      <td>...</td>\n",
       "      <td>...</td>\n",
       "      <td>...</td>\n",
       "      <td>...</td>\n",
       "      <td>...</td>\n",
       "      <td>...</td>\n",
       "      <td>...</td>\n",
       "    </tr>\n",
       "    <tr>\n",
       "      <th>32554</th>\n",
       "      <td>27</td>\n",
       "      <td>Private</td>\n",
       "      <td>257302</td>\n",
       "      <td>Assoc-acdm</td>\n",
       "      <td>12</td>\n",
       "      <td>Married-civ-spouse</td>\n",
       "      <td>Tech-support</td>\n",
       "      <td>Wife</td>\n",
       "      <td>White</td>\n",
       "      <td>Female</td>\n",
       "      <td>0</td>\n",
       "      <td>0</td>\n",
       "      <td>38</td>\n",
       "      <td>United-States</td>\n",
       "      <td>&lt;=50K</td>\n",
       "    </tr>\n",
       "    <tr>\n",
       "      <th>32555</th>\n",
       "      <td>40</td>\n",
       "      <td>Private</td>\n",
       "      <td>154374</td>\n",
       "      <td>HS-grad</td>\n",
       "      <td>9</td>\n",
       "      <td>Married-civ-spouse</td>\n",
       "      <td>Machine-op-inspct</td>\n",
       "      <td>Husband</td>\n",
       "      <td>White</td>\n",
       "      <td>Male</td>\n",
       "      <td>0</td>\n",
       "      <td>0</td>\n",
       "      <td>40</td>\n",
       "      <td>United-States</td>\n",
       "      <td>&gt;50K</td>\n",
       "    </tr>\n",
       "    <tr>\n",
       "      <th>32556</th>\n",
       "      <td>58</td>\n",
       "      <td>Private</td>\n",
       "      <td>151910</td>\n",
       "      <td>HS-grad</td>\n",
       "      <td>9</td>\n",
       "      <td>Widowed</td>\n",
       "      <td>Adm-clerical</td>\n",
       "      <td>Unmarried</td>\n",
       "      <td>White</td>\n",
       "      <td>Female</td>\n",
       "      <td>0</td>\n",
       "      <td>0</td>\n",
       "      <td>40</td>\n",
       "      <td>United-States</td>\n",
       "      <td>&lt;=50K</td>\n",
       "    </tr>\n",
       "    <tr>\n",
       "      <th>32557</th>\n",
       "      <td>22</td>\n",
       "      <td>Private</td>\n",
       "      <td>201490</td>\n",
       "      <td>HS-grad</td>\n",
       "      <td>9</td>\n",
       "      <td>Never-married</td>\n",
       "      <td>Adm-clerical</td>\n",
       "      <td>Own-child</td>\n",
       "      <td>White</td>\n",
       "      <td>Male</td>\n",
       "      <td>0</td>\n",
       "      <td>0</td>\n",
       "      <td>20</td>\n",
       "      <td>United-States</td>\n",
       "      <td>&lt;=50K</td>\n",
       "    </tr>\n",
       "    <tr>\n",
       "      <th>32558</th>\n",
       "      <td>52</td>\n",
       "      <td>Self-emp-inc</td>\n",
       "      <td>287927</td>\n",
       "      <td>HS-grad</td>\n",
       "      <td>9</td>\n",
       "      <td>Married-civ-spouse</td>\n",
       "      <td>Exec-managerial</td>\n",
       "      <td>Wife</td>\n",
       "      <td>White</td>\n",
       "      <td>Female</td>\n",
       "      <td>15024</td>\n",
       "      <td>0</td>\n",
       "      <td>40</td>\n",
       "      <td>United-States</td>\n",
       "      <td>&gt;50K</td>\n",
       "    </tr>\n",
       "  </tbody>\n",
       "</table>\n",
       "<p>32559 rows × 15 columns</p>\n",
       "</div>"
      ],
      "text/plain": [
       "       Age     Work_class  Final_weight    Education  Education_num  \\\n",
       "0       38        Private        215646      HS-grad              9   \n",
       "1       53        Private        234721         11th              7   \n",
       "2       28        Private        338409    Bachelors             13   \n",
       "3       37        Private        284582      Masters             14   \n",
       "4       49        Private        160187          9th              5   \n",
       "...    ...            ...           ...          ...            ...   \n",
       "32554   27        Private        257302   Assoc-acdm             12   \n",
       "32555   40        Private        154374      HS-grad              9   \n",
       "32556   58        Private        151910      HS-grad              9   \n",
       "32557   22        Private        201490      HS-grad              9   \n",
       "32558   52   Self-emp-inc        287927      HS-grad              9   \n",
       "\n",
       "               Marital_status          Occupation    Relationship    Race  \\\n",
       "0                    Divorced   Handlers-cleaners   Not-in-family   White   \n",
       "1          Married-civ-spouse   Handlers-cleaners         Husband   Black   \n",
       "2          Married-civ-spouse      Prof-specialty            Wife   Black   \n",
       "3          Married-civ-spouse     Exec-managerial            Wife   White   \n",
       "4       Married-spouse-absent       Other-service   Not-in-family   Black   \n",
       "...                       ...                 ...             ...     ...   \n",
       "32554      Married-civ-spouse        Tech-support            Wife   White   \n",
       "32555      Married-civ-spouse   Machine-op-inspct         Husband   White   \n",
       "32556                 Widowed        Adm-clerical       Unmarried   White   \n",
       "32557           Never-married        Adm-clerical       Own-child   White   \n",
       "32558      Married-civ-spouse     Exec-managerial            Wife   White   \n",
       "\n",
       "           Sex  Capital_gain  Capital_loss  Hours_per_week  Native_country  \\\n",
       "0         Male             0             0              40   United-States   \n",
       "1         Male             0             0              40   United-States   \n",
       "2       Female             0             0              40            Cuba   \n",
       "3       Female             0             0              40   United-States   \n",
       "4       Female             0             0              16         Jamaica   \n",
       "...        ...           ...           ...             ...             ...   \n",
       "32554   Female             0             0              38   United-States   \n",
       "32555     Male             0             0              40   United-States   \n",
       "32556   Female             0             0              40   United-States   \n",
       "32557     Male             0             0              20   United-States   \n",
       "32558   Female         15024             0              40   United-States   \n",
       "\n",
       "       Income  \n",
       "0       <=50K  \n",
       "1       <=50K  \n",
       "2       <=50K  \n",
       "3       <=50K  \n",
       "4       <=50K  \n",
       "...       ...  \n",
       "32554   <=50K  \n",
       "32555    >50K  \n",
       "32556   <=50K  \n",
       "32557   <=50K  \n",
       "32558    >50K  \n",
       "\n",
       "[32559 rows x 15 columns]"
      ]
     },
     "execution_count": 2,
     "metadata": {},
     "output_type": "execute_result"
    }
   ],
   "source": [
    "file_name = r'..\\Dataset\\adult.data'\n",
    "headers = ['Age', 'Work_class', 'Final_weight', 'Education', 'Education_num', 'Marital_status', 'Occupation', 'Relationship', 'Race', 'Sex', 'Capital_gain', 'Capital_loss', \n",
    "           'Hours_per_week', 'Native_country', 'Income']\n",
    "df = pd.read_csv(file_name, sep=\",\", header=1, names=headers, na_values='?')\n",
    "df"
   ]
  },
  {
   "cell_type": "markdown",
   "id": "1b146f4193710d0c",
   "metadata": {},
   "source": [
    "Спочатку давайте перевіримо, чи є в нас пропущені значення"
   ]
  },
  {
   "cell_type": "code",
   "execution_count": 3,
   "id": "318c2518f75db4ca",
   "metadata": {
    "ExecuteTime": {
     "end_time": "2024-09-26T12:02:20.146939Z",
     "start_time": "2024-09-26T12:02:19.941258Z"
    }
   },
   "outputs": [
    {
     "name": "stdout",
     "output_type": "stream",
     "text": [
      "There are '?' values in the dataframe\n"
     ]
    }
   ],
   "source": [
    "def has_question_mark_str(column):\n",
    "    return column.astype(str).str.contains('\\?', regex=True).any()\n",
    "\n",
    "def has_question_mark_int(column):\n",
    "    return column.astype(str).str.contains('\\?', regex=True).any()\n",
    "\n",
    "has_question_str = df.select_dtypes(include=['object']).apply(has_question_mark_str)\n",
    "has_question_int = df.select_dtypes(include=['int']).apply(has_question_mark_int)\n",
    "\n",
    "if has_question_str.any() or has_question_int.any():\n",
    "    print(\"There are '?' values in the dataframe\")\n",
    "else:\n",
    "    print(\"There are no '?' values in the dataframe\")"
   ]
  },
  {
   "cell_type": "markdown",
   "id": "cbdbee0edb54845f",
   "metadata": {},
   "source": [
    "У нас є пропущені значення в колонці `Work_class`, так як в нас лабораторна робота не вимагає якось обробити пропущені значення, я їх просто видалю"
   ]
  },
  {
   "cell_type": "code",
   "execution_count": 4,
   "id": "86604ea091f96a6",
   "metadata": {
    "ExecuteTime": {
     "end_time": "2024-09-26T12:05:29.194297Z",
     "start_time": "2024-09-26T12:05:29.064829Z"
    }
   },
   "outputs": [
    {
     "name": "stdout",
     "output_type": "stream",
     "text": [
      "Missing values were removed\n"
     ]
    },
    {
     "data": {
      "text/html": [
       "<div>\n",
       "<style scoped>\n",
       "    .dataframe tbody tr th:only-of-type {\n",
       "        vertical-align: middle;\n",
       "    }\n",
       "\n",
       "    .dataframe tbody tr th {\n",
       "        vertical-align: top;\n",
       "    }\n",
       "\n",
       "    .dataframe thead th {\n",
       "        text-align: right;\n",
       "    }\n",
       "</style>\n",
       "<table border=\"1\" class=\"dataframe\">\n",
       "  <thead>\n",
       "    <tr style=\"text-align: right;\">\n",
       "      <th></th>\n",
       "      <th>Age</th>\n",
       "      <th>Work_class</th>\n",
       "      <th>Final_weight</th>\n",
       "      <th>Education</th>\n",
       "      <th>Education_num</th>\n",
       "      <th>Marital_status</th>\n",
       "      <th>Occupation</th>\n",
       "      <th>Relationship</th>\n",
       "      <th>Race</th>\n",
       "      <th>Sex</th>\n",
       "      <th>Capital_gain</th>\n",
       "      <th>Capital_loss</th>\n",
       "      <th>Hours_per_week</th>\n",
       "      <th>Native_country</th>\n",
       "      <th>Income</th>\n",
       "    </tr>\n",
       "  </thead>\n",
       "  <tbody>\n",
       "    <tr>\n",
       "      <th>0</th>\n",
       "      <td>38</td>\n",
       "      <td>Private</td>\n",
       "      <td>215646</td>\n",
       "      <td>HS-grad</td>\n",
       "      <td>9</td>\n",
       "      <td>Divorced</td>\n",
       "      <td>Handlers-cleaners</td>\n",
       "      <td>Not-in-family</td>\n",
       "      <td>White</td>\n",
       "      <td>Male</td>\n",
       "      <td>0</td>\n",
       "      <td>0</td>\n",
       "      <td>40</td>\n",
       "      <td>United-States</td>\n",
       "      <td>&lt;=50K</td>\n",
       "    </tr>\n",
       "    <tr>\n",
       "      <th>1</th>\n",
       "      <td>53</td>\n",
       "      <td>Private</td>\n",
       "      <td>234721</td>\n",
       "      <td>11th</td>\n",
       "      <td>7</td>\n",
       "      <td>Married-civ-spouse</td>\n",
       "      <td>Handlers-cleaners</td>\n",
       "      <td>Husband</td>\n",
       "      <td>Black</td>\n",
       "      <td>Male</td>\n",
       "      <td>0</td>\n",
       "      <td>0</td>\n",
       "      <td>40</td>\n",
       "      <td>United-States</td>\n",
       "      <td>&lt;=50K</td>\n",
       "    </tr>\n",
       "    <tr>\n",
       "      <th>2</th>\n",
       "      <td>28</td>\n",
       "      <td>Private</td>\n",
       "      <td>338409</td>\n",
       "      <td>Bachelors</td>\n",
       "      <td>13</td>\n",
       "      <td>Married-civ-spouse</td>\n",
       "      <td>Prof-specialty</td>\n",
       "      <td>Wife</td>\n",
       "      <td>Black</td>\n",
       "      <td>Female</td>\n",
       "      <td>0</td>\n",
       "      <td>0</td>\n",
       "      <td>40</td>\n",
       "      <td>Cuba</td>\n",
       "      <td>&lt;=50K</td>\n",
       "    </tr>\n",
       "    <tr>\n",
       "      <th>3</th>\n",
       "      <td>37</td>\n",
       "      <td>Private</td>\n",
       "      <td>284582</td>\n",
       "      <td>Masters</td>\n",
       "      <td>14</td>\n",
       "      <td>Married-civ-spouse</td>\n",
       "      <td>Exec-managerial</td>\n",
       "      <td>Wife</td>\n",
       "      <td>White</td>\n",
       "      <td>Female</td>\n",
       "      <td>0</td>\n",
       "      <td>0</td>\n",
       "      <td>40</td>\n",
       "      <td>United-States</td>\n",
       "      <td>&lt;=50K</td>\n",
       "    </tr>\n",
       "    <tr>\n",
       "      <th>4</th>\n",
       "      <td>49</td>\n",
       "      <td>Private</td>\n",
       "      <td>160187</td>\n",
       "      <td>9th</td>\n",
       "      <td>5</td>\n",
       "      <td>Married-spouse-absent</td>\n",
       "      <td>Other-service</td>\n",
       "      <td>Not-in-family</td>\n",
       "      <td>Black</td>\n",
       "      <td>Female</td>\n",
       "      <td>0</td>\n",
       "      <td>0</td>\n",
       "      <td>16</td>\n",
       "      <td>Jamaica</td>\n",
       "      <td>&lt;=50K</td>\n",
       "    </tr>\n",
       "    <tr>\n",
       "      <th>...</th>\n",
       "      <td>...</td>\n",
       "      <td>...</td>\n",
       "      <td>...</td>\n",
       "      <td>...</td>\n",
       "      <td>...</td>\n",
       "      <td>...</td>\n",
       "      <td>...</td>\n",
       "      <td>...</td>\n",
       "      <td>...</td>\n",
       "      <td>...</td>\n",
       "      <td>...</td>\n",
       "      <td>...</td>\n",
       "      <td>...</td>\n",
       "      <td>...</td>\n",
       "      <td>...</td>\n",
       "    </tr>\n",
       "    <tr>\n",
       "      <th>32554</th>\n",
       "      <td>27</td>\n",
       "      <td>Private</td>\n",
       "      <td>257302</td>\n",
       "      <td>Assoc-acdm</td>\n",
       "      <td>12</td>\n",
       "      <td>Married-civ-spouse</td>\n",
       "      <td>Tech-support</td>\n",
       "      <td>Wife</td>\n",
       "      <td>White</td>\n",
       "      <td>Female</td>\n",
       "      <td>0</td>\n",
       "      <td>0</td>\n",
       "      <td>38</td>\n",
       "      <td>United-States</td>\n",
       "      <td>&lt;=50K</td>\n",
       "    </tr>\n",
       "    <tr>\n",
       "      <th>32555</th>\n",
       "      <td>40</td>\n",
       "      <td>Private</td>\n",
       "      <td>154374</td>\n",
       "      <td>HS-grad</td>\n",
       "      <td>9</td>\n",
       "      <td>Married-civ-spouse</td>\n",
       "      <td>Machine-op-inspct</td>\n",
       "      <td>Husband</td>\n",
       "      <td>White</td>\n",
       "      <td>Male</td>\n",
       "      <td>0</td>\n",
       "      <td>0</td>\n",
       "      <td>40</td>\n",
       "      <td>United-States</td>\n",
       "      <td>&gt;50K</td>\n",
       "    </tr>\n",
       "    <tr>\n",
       "      <th>32556</th>\n",
       "      <td>58</td>\n",
       "      <td>Private</td>\n",
       "      <td>151910</td>\n",
       "      <td>HS-grad</td>\n",
       "      <td>9</td>\n",
       "      <td>Widowed</td>\n",
       "      <td>Adm-clerical</td>\n",
       "      <td>Unmarried</td>\n",
       "      <td>White</td>\n",
       "      <td>Female</td>\n",
       "      <td>0</td>\n",
       "      <td>0</td>\n",
       "      <td>40</td>\n",
       "      <td>United-States</td>\n",
       "      <td>&lt;=50K</td>\n",
       "    </tr>\n",
       "    <tr>\n",
       "      <th>32557</th>\n",
       "      <td>22</td>\n",
       "      <td>Private</td>\n",
       "      <td>201490</td>\n",
       "      <td>HS-grad</td>\n",
       "      <td>9</td>\n",
       "      <td>Never-married</td>\n",
       "      <td>Adm-clerical</td>\n",
       "      <td>Own-child</td>\n",
       "      <td>White</td>\n",
       "      <td>Male</td>\n",
       "      <td>0</td>\n",
       "      <td>0</td>\n",
       "      <td>20</td>\n",
       "      <td>United-States</td>\n",
       "      <td>&lt;=50K</td>\n",
       "    </tr>\n",
       "    <tr>\n",
       "      <th>32558</th>\n",
       "      <td>52</td>\n",
       "      <td>Self-emp-inc</td>\n",
       "      <td>287927</td>\n",
       "      <td>HS-grad</td>\n",
       "      <td>9</td>\n",
       "      <td>Married-civ-spouse</td>\n",
       "      <td>Exec-managerial</td>\n",
       "      <td>Wife</td>\n",
       "      <td>White</td>\n",
       "      <td>Female</td>\n",
       "      <td>15024</td>\n",
       "      <td>0</td>\n",
       "      <td>40</td>\n",
       "      <td>United-States</td>\n",
       "      <td>&gt;50K</td>\n",
       "    </tr>\n",
       "  </tbody>\n",
       "</table>\n",
       "<p>30160 rows × 15 columns</p>\n",
       "</div>"
      ],
      "text/plain": [
       "       Age    Work_class  Final_weight   Education  Education_num  \\\n",
       "0       38       Private        215646     HS-grad              9   \n",
       "1       53       Private        234721        11th              7   \n",
       "2       28       Private        338409   Bachelors             13   \n",
       "3       37       Private        284582     Masters             14   \n",
       "4       49       Private        160187         9th              5   \n",
       "...    ...           ...           ...         ...            ...   \n",
       "32554   27       Private        257302  Assoc-acdm             12   \n",
       "32555   40       Private        154374     HS-grad              9   \n",
       "32556   58       Private        151910     HS-grad              9   \n",
       "32557   22       Private        201490     HS-grad              9   \n",
       "32558   52  Self-emp-inc        287927     HS-grad              9   \n",
       "\n",
       "              Marital_status         Occupation   Relationship   Race     Sex  \\\n",
       "0                   Divorced  Handlers-cleaners  Not-in-family  White    Male   \n",
       "1         Married-civ-spouse  Handlers-cleaners        Husband  Black    Male   \n",
       "2         Married-civ-spouse     Prof-specialty           Wife  Black  Female   \n",
       "3         Married-civ-spouse    Exec-managerial           Wife  White  Female   \n",
       "4      Married-spouse-absent      Other-service  Not-in-family  Black  Female   \n",
       "...                      ...                ...            ...    ...     ...   \n",
       "32554     Married-civ-spouse       Tech-support           Wife  White  Female   \n",
       "32555     Married-civ-spouse  Machine-op-inspct        Husband  White    Male   \n",
       "32556                Widowed       Adm-clerical      Unmarried  White  Female   \n",
       "32557          Never-married       Adm-clerical      Own-child  White    Male   \n",
       "32558     Married-civ-spouse    Exec-managerial           Wife  White  Female   \n",
       "\n",
       "       Capital_gain  Capital_loss  Hours_per_week Native_country Income  \n",
       "0                 0             0              40  United-States  <=50K  \n",
       "1                 0             0              40  United-States  <=50K  \n",
       "2                 0             0              40           Cuba  <=50K  \n",
       "3                 0             0              40  United-States  <=50K  \n",
       "4                 0             0              16        Jamaica  <=50K  \n",
       "...             ...           ...             ...            ...    ...  \n",
       "32554             0             0              38  United-States  <=50K  \n",
       "32555             0             0              40  United-States   >50K  \n",
       "32556             0             0              40  United-States  <=50K  \n",
       "32557             0             0              20  United-States  <=50K  \n",
       "32558         15024             0              40  United-States   >50K  \n",
       "\n",
       "[30160 rows x 15 columns]"
      ]
     },
     "execution_count": 4,
     "metadata": {},
     "output_type": "execute_result"
    }
   ],
   "source": [
    "df = df.apply(lambda x: x.str.strip() if x.dtype == \"object\" else x)\n",
    "df = df[~df.isin(['?']).any(axis=1)]\n",
    "print('Missing values were removed')\n",
    "\n",
    "df"
   ]
  },
  {
   "cell_type": "markdown",
   "id": "83c680b5e26921b1",
   "metadata": {},
   "source": [
    "Збережемо датасет у файл"
   ]
  },
  {
   "cell_type": "code",
   "execution_count": 5,
   "id": "8c7b5c59ceff9fcd",
   "metadata": {
    "ExecuteTime": {
     "end_time": "2024-09-26T12:12:20.226078Z",
     "start_time": "2024-09-26T12:12:20.069893Z"
    }
   },
   "outputs": [],
   "source": [
    "df.to_csv(r'..\\Dataset\\adult_cleaned.data', index=False)"
   ]
  },
  {
   "cell_type": "markdown",
   "id": "ce24f2c1876a3720",
   "metadata": {},
   "source": [
    "1. Рахуємо середнє значення колонки `Age`"
   ]
  },
  {
   "cell_type": "code",
   "execution_count": 6,
   "id": "d16e7561dc7a7b71",
   "metadata": {
    "ExecuteTime": {
     "end_time": "2024-09-26T12:24:40.853009Z",
     "start_time": "2024-09-26T12:24:40.845281Z"
    }
   },
   "outputs": [
    {
     "data": {
      "text/plain": [
       "38.4375"
      ]
     },
     "execution_count": 6,
     "metadata": {},
     "output_type": "execute_result"
    }
   ],
   "source": [
    "average_age = df['Age'].mean()\n",
    "average_age"
   ]
  },
  {
   "cell_type": "markdown",
   "id": "af1bd44b59b7eeaf",
   "metadata": {},
   "source": [
    "2. Рахуємо середнє усічене значення колонки `Age` <br>Параметр `0.3` вказує на те, що ми відкидаємо 30% значень з кожного краю"
   ]
  },
  {
   "cell_type": "code",
   "execution_count": 13,
   "id": "ac5d0fe706b93697",
   "metadata": {
    "ExecuteTime": {
     "end_time": "2024-09-26T12:31:20.475161Z",
     "start_time": "2024-09-26T12:31:20.468458Z"
    }
   },
   "outputs": [
    {
     "data": {
      "text/plain": [
       "37.22654177718833"
      ]
     },
     "execution_count": 13,
     "metadata": {},
     "output_type": "execute_result"
    }
   ],
   "source": [
    "trimmed_avg_age = stats.trim_mean(df['Age'], 0.3)\n",
    "trimmed_avg_age"
   ]
  },
  {
   "cell_type": "markdown",
   "id": "127febc1c4721e00",
   "metadata": {},
   "source": [
    "3. Рахуємо медіану колонки `Age`"
   ]
  },
  {
   "cell_type": "code",
   "execution_count": 14,
   "id": "745e28803d7a43bd",
   "metadata": {
    "ExecuteTime": {
     "end_time": "2024-09-26T12:34:34.907669Z",
     "start_time": "2024-09-26T12:34:34.900795Z"
    }
   },
   "outputs": [
    {
     "data": {
      "text/plain": [
       "37.0"
      ]
     },
     "execution_count": 14,
     "metadata": {},
     "output_type": "execute_result"
    }
   ],
   "source": [
    "median_age = df['Age'].median()\n",
    "median_age"
   ]
  },
  {
   "cell_type": "markdown",
   "id": "9f8e3a41547078ac",
   "metadata": {},
   "source": [
    "4. Рахуємо дисперсію колонки `Age` <br>Цей метод використовує формулу для вибіркової дисперсії (тобто ділить на `n-1`, де `n` - кількість значень)"
   ]
  },
  {
   "cell_type": "code",
   "execution_count": 19,
   "id": "8dd71e111bd4325b",
   "metadata": {
    "ExecuteTime": {
     "end_time": "2024-09-26T12:52:21.822245Z",
     "start_time": "2024-09-26T12:52:21.814314Z"
    }
   },
   "outputs": [
    {
     "data": {
      "text/plain": [
       "172.52641624390728"
      ]
     },
     "execution_count": 19,
     "metadata": {},
     "output_type": "execute_result"
    }
   ],
   "source": [
    "variance_age = df['Age'].var()\n",
    "variance_age"
   ]
  },
  {
   "cell_type": "markdown",
   "id": "828d1ec0c0e1283",
   "metadata": {},
   "source": [
    "5. Рахуємо стандартне відхилення колонки `Age`"
   ]
  },
  {
   "cell_type": "code",
   "execution_count": 20,
   "id": "6c4a2391d22ffdce",
   "metadata": {
    "ExecuteTime": {
     "end_time": "2024-09-26T12:57:07.506786Z",
     "start_time": "2024-09-26T12:57:07.500130Z"
    }
   },
   "outputs": [
    {
     "data": {
      "text/plain": [
       "13.134931147284606"
      ]
     },
     "execution_count": 20,
     "metadata": {},
     "output_type": "execute_result"
    }
   ],
   "source": [
    "standard_deviation_age = df['Age'].std()\n",
    "standard_deviation_age"
   ]
  },
  {
   "cell_type": "markdown",
   "id": "f22eedf58c74ab15",
   "metadata": {},
   "source": [
    "6. Рахуємо середнє відхилення колонки `Age`"
   ]
  },
  {
   "cell_type": "code",
   "execution_count": 23,
   "id": "b5c3cc5df253948a",
   "metadata": {
    "ExecuteTime": {
     "end_time": "2024-09-26T13:00:28.626248Z",
     "start_time": "2024-09-26T13:00:28.618949Z"
    }
   },
   "outputs": [
    {
     "data": {
      "text/plain": [
       "10.779074104774535"
      ]
     },
     "execution_count": 23,
     "metadata": {},
     "output_type": "execute_result"
    }
   ],
   "source": [
    "mad_age = (df['Age'] - average_age).abs().mean()\n",
    "mad_age"
   ]
  },
  {
   "cell_type": "markdown",
   "id": "2b5f5df80f65fc77",
   "metadata": {},
   "source": [
    "7. Рахуємо абсолютне медіанне відхилення колонки `Age`"
   ]
  },
  {
   "cell_type": "code",
   "execution_count": 25,
   "id": "6fc036a8c6027935",
   "metadata": {
    "ExecuteTime": {
     "end_time": "2024-09-26T13:08:46.594803Z",
     "start_time": "2024-09-26T13:08:46.585494Z"
    }
   },
   "outputs": [
    {
     "data": {
      "text/plain": [
       "10.0"
      ]
     },
     "execution_count": 25,
     "metadata": {},
     "output_type": "execute_result"
    }
   ],
   "source": [
    "absolute_deviation = (df['Age'] - median_age).abs()\n",
    "mad_age_median = absolute_deviation.median()\n",
    "mad_age_median"
   ]
  },
  {
   "cell_type": "markdown",
   "id": "75531a5cdd118427",
   "metadata": {},
   "source": [
    "Нормалізуємо дані колонки `Age` в діапазон від 0 до 1"
   ]
  },
  {
   "cell_type": "code",
   "execution_count": 28,
   "id": "7438710ab7891dde",
   "metadata": {
    "ExecuteTime": {
     "end_time": "2024-09-26T13:16:05.614653Z",
     "start_time": "2024-09-26T13:16:05.590235Z"
    }
   },
   "outputs": [
    {
     "data": {
      "text/html": [
       "<div>\n",
       "<style scoped>\n",
       "    .dataframe tbody tr th:only-of-type {\n",
       "        vertical-align: middle;\n",
       "    }\n",
       "\n",
       "    .dataframe tbody tr th {\n",
       "        vertical-align: top;\n",
       "    }\n",
       "\n",
       "    .dataframe thead th {\n",
       "        text-align: right;\n",
       "    }\n",
       "</style>\n",
       "<table border=\"1\" class=\"dataframe\">\n",
       "  <thead>\n",
       "    <tr style=\"text-align: right;\">\n",
       "      <th></th>\n",
       "      <th>Age</th>\n",
       "      <th>Age_normalized</th>\n",
       "    </tr>\n",
       "  </thead>\n",
       "  <tbody>\n",
       "    <tr>\n",
       "      <th>0</th>\n",
       "      <td>38</td>\n",
       "      <td>0.287671</td>\n",
       "    </tr>\n",
       "    <tr>\n",
       "      <th>1</th>\n",
       "      <td>53</td>\n",
       "      <td>0.493151</td>\n",
       "    </tr>\n",
       "    <tr>\n",
       "      <th>2</th>\n",
       "      <td>28</td>\n",
       "      <td>0.150685</td>\n",
       "    </tr>\n",
       "    <tr>\n",
       "      <th>3</th>\n",
       "      <td>37</td>\n",
       "      <td>0.273973</td>\n",
       "    </tr>\n",
       "    <tr>\n",
       "      <th>4</th>\n",
       "      <td>49</td>\n",
       "      <td>0.438356</td>\n",
       "    </tr>\n",
       "    <tr>\n",
       "      <th>...</th>\n",
       "      <td>...</td>\n",
       "      <td>...</td>\n",
       "    </tr>\n",
       "    <tr>\n",
       "      <th>32554</th>\n",
       "      <td>27</td>\n",
       "      <td>0.136986</td>\n",
       "    </tr>\n",
       "    <tr>\n",
       "      <th>32555</th>\n",
       "      <td>40</td>\n",
       "      <td>0.315068</td>\n",
       "    </tr>\n",
       "    <tr>\n",
       "      <th>32556</th>\n",
       "      <td>58</td>\n",
       "      <td>0.561644</td>\n",
       "    </tr>\n",
       "    <tr>\n",
       "      <th>32557</th>\n",
       "      <td>22</td>\n",
       "      <td>0.068493</td>\n",
       "    </tr>\n",
       "    <tr>\n",
       "      <th>32558</th>\n",
       "      <td>52</td>\n",
       "      <td>0.479452</td>\n",
       "    </tr>\n",
       "  </tbody>\n",
       "</table>\n",
       "<p>30160 rows × 2 columns</p>\n",
       "</div>"
      ],
      "text/plain": [
       "       Age  Age_normalized\n",
       "0       38        0.287671\n",
       "1       53        0.493151\n",
       "2       28        0.150685\n",
       "3       37        0.273973\n",
       "4       49        0.438356\n",
       "...    ...             ...\n",
       "32554   27        0.136986\n",
       "32555   40        0.315068\n",
       "32556   58        0.561644\n",
       "32557   22        0.068493\n",
       "32558   52        0.479452\n",
       "\n",
       "[30160 rows x 2 columns]"
      ]
     },
     "execution_count": 28,
     "metadata": {},
     "output_type": "execute_result"
    }
   ],
   "source": [
    "df['Age_normalized'] = (df['Age'] - df['Age'].min()) / (df['Age'].max() - df['Age'].min())\n",
    "df[['Age', 'Age_normalized']]"
   ]
  },
  {
   "cell_type": "markdown",
   "id": "f3a7c144de733597",
   "metadata": {},
   "source": [
    "Рахуємо середню нормалізацію колонки `Age`"
   ]
  },
  {
   "cell_type": "code",
   "execution_count": 29,
   "id": "278a49bf518a09d8",
   "metadata": {
    "ExecuteTime": {
     "end_time": "2024-09-26T13:21:53.572730Z",
     "start_time": "2024-09-26T13:21:53.562887Z"
    }
   },
   "outputs": [
    {
     "data": {
      "text/html": [
       "<div>\n",
       "<style scoped>\n",
       "    .dataframe tbody tr th:only-of-type {\n",
       "        vertical-align: middle;\n",
       "    }\n",
       "\n",
       "    .dataframe tbody tr th {\n",
       "        vertical-align: top;\n",
       "    }\n",
       "\n",
       "    .dataframe thead th {\n",
       "        text-align: right;\n",
       "    }\n",
       "</style>\n",
       "<table border=\"1\" class=\"dataframe\">\n",
       "  <thead>\n",
       "    <tr style=\"text-align: right;\">\n",
       "      <th></th>\n",
       "      <th>Age</th>\n",
       "      <th>Age_avg_normalized</th>\n",
       "    </tr>\n",
       "  </thead>\n",
       "  <tbody>\n",
       "    <tr>\n",
       "      <th>0</th>\n",
       "      <td>38</td>\n",
       "      <td>-0.040588</td>\n",
       "    </tr>\n",
       "    <tr>\n",
       "      <th>1</th>\n",
       "      <td>53</td>\n",
       "      <td>1.350997</td>\n",
       "    </tr>\n",
       "    <tr>\n",
       "      <th>2</th>\n",
       "      <td>28</td>\n",
       "      <td>-0.968311</td>\n",
       "    </tr>\n",
       "    <tr>\n",
       "      <th>3</th>\n",
       "      <td>37</td>\n",
       "      <td>-0.133360</td>\n",
       "    </tr>\n",
       "    <tr>\n",
       "      <th>4</th>\n",
       "      <td>49</td>\n",
       "      <td>0.979908</td>\n",
       "    </tr>\n",
       "    <tr>\n",
       "      <th>...</th>\n",
       "      <td>...</td>\n",
       "      <td>...</td>\n",
       "    </tr>\n",
       "    <tr>\n",
       "      <th>32554</th>\n",
       "      <td>27</td>\n",
       "      <td>-1.061084</td>\n",
       "    </tr>\n",
       "    <tr>\n",
       "      <th>32555</th>\n",
       "      <td>40</td>\n",
       "      <td>0.144957</td>\n",
       "    </tr>\n",
       "    <tr>\n",
       "      <th>32556</th>\n",
       "      <td>58</td>\n",
       "      <td>1.814859</td>\n",
       "    </tr>\n",
       "    <tr>\n",
       "      <th>32557</th>\n",
       "      <td>22</td>\n",
       "      <td>-1.524945</td>\n",
       "    </tr>\n",
       "    <tr>\n",
       "      <th>32558</th>\n",
       "      <td>52</td>\n",
       "      <td>1.258225</td>\n",
       "    </tr>\n",
       "  </tbody>\n",
       "</table>\n",
       "<p>30160 rows × 2 columns</p>\n",
       "</div>"
      ],
      "text/plain": [
       "       Age  Age_avg_normalized\n",
       "0       38           -0.040588\n",
       "1       53            1.350997\n",
       "2       28           -0.968311\n",
       "3       37           -0.133360\n",
       "4       49            0.979908\n",
       "...    ...                 ...\n",
       "32554   27           -1.061084\n",
       "32555   40            0.144957\n",
       "32556   58            1.814859\n",
       "32557   22           -1.524945\n",
       "32558   52            1.258225\n",
       "\n",
       "[30160 rows x 2 columns]"
      ]
     },
     "execution_count": 29,
     "metadata": {},
     "output_type": "execute_result"
    }
   ],
   "source": [
    "df['Age_avg_normalized'] = (df['Age'] - df['Age'].mean()) / mad_age\n",
    "df[['Age', 'Age_avg_normalized']]"
   ]
  },
  {
   "cell_type": "markdown",
   "id": "2c65a99f37a7a648",
   "metadata": {},
   "source": [
    "На цьому графіку зображено розподіл віку відповідно до сімейного статусу, використовуючи стовбчасту діаграму"
   ]
  },
  {
   "cell_type": "code",
   "execution_count": 58,
   "id": "9ffeb369c242c377",
   "metadata": {
    "ExecuteTime": {
     "end_time": "2024-09-26T14:59:23.554405Z",
     "start_time": "2024-09-26T14:59:22.081237Z"
    }
   },
   "outputs": [
    {
     "data": {
      "image/png": "[encoded data removed]",
      "text/plain": [
       "<Figure size 800x600 with 1 Axes>"
      ]
     },
     "metadata": {},
     "output_type": "display_data"
    }
   ],
   "source": [
    "plt.figure(figsize=(8, 6))\n",
    "plt.title('Relationship Status by Age')\n",
    "with sns.color_palette(\"Set2\"):\n",
    "    sns.barplot(data=df, x='Relationship', y='Age')\n",
    "plt.show()"
   ]
  },
  {
   "cell_type": "markdown",
   "id": "46c43fe5e5edfe1a",
   "metadata": {},
   "source": [
    "На цьому графіку зображено залежність між віком та кількістю годин, які людина працює на тиждень"
   ]
  },
  {
   "cell_type": "code",
   "execution_count": 74,
   "id": "1e89f30ce7326ea6",
   "metadata": {
    "ExecuteTime": {
     "end_time": "2024-09-26T17:32:26.345277Z",
     "start_time": "2024-09-26T17:32:24.578726Z"
    }
   },
   "outputs": [
    {
     "data": {
      "image/png": "[encoded data removed]",
      "text/plain": [
       "<Figure size 1200x600 with 1 Axes>"
      ]
     },
     "metadata": {},
     "output_type": "display_data"
    }
   ],
   "source": [
    "plt.figure(figsize=(12, 6))\n",
    "with sns.color_palette(\"Set2\"):\n",
    "    sns.lineplot(data=df, x='Age', y='Hours_per_week', marker='*')\n",
    "plt.title('Relationship Between Age and Hours Worked Per Week')\n",
    "plt.xlabel('Age')\n",
    "plt.ylabel('Hours Worked Per Week')\n",
    "plt.grid()\n",
    "plt.show()"
   ]
  },
  {
   "cell_type": "markdown",
   "id": "a9ab0f78f3855ce",
   "metadata": {},
   "source": [
    "На цьому графіку зображено розподіл доходів відповідно до рівня освіти "
   ]
  },
  {
   "cell_type": "code",
   "execution_count": 76,
   "id": "7175ea50df67772",
   "metadata": {
    "ExecuteTime": {
     "end_time": "2024-09-26T17:32:46.365816Z",
     "start_time": "2024-09-26T17:32:46.009985Z"
    }
   },
   "outputs": [
    {
     "data": {
      "image/png": "[encoded data removed]",
      "text/plain": [
       "<Figure size 800x600 with 1 Axes>"
      ]
     },
     "metadata": {},
     "output_type": "display_data"
    }
   ],
   "source": [
    "plt.figure(figsize=(8, 6))\n",
    "with sns.color_palette(\"Set2\"):\n",
    "    sns.countplot(data=df, x='Education', hue='Income')\n",
    "plt.title('Income Distribution by Education Level')\n",
    "plt.xticks(rotation=45)\n",
    "plt.show()"
   ]
  },
  {
   "cell_type": "code",
   "id": "92fe47819e4f768e",
   "metadata": {
    "ExecuteTime": {
     "end_time": "2024-09-26T17:46:16.568323Z",
     "start_time": "2024-09-26T17:46:16.552762Z"
    }
   },
   "source": [
    "df"
   ],
   "outputs": [
    {
     "data": {
      "text/plain": [
       "       Age    Work_class  Final_weight   Education  Education_num  \\\n",
       "0       38       Private        215646     HS-grad              9   \n",
       "1       53       Private        234721        11th              7   \n",
       "2       28       Private        338409   Bachelors             13   \n",
       "3       37       Private        284582     Masters             14   \n",
       "4       49       Private        160187         9th              5   \n",
       "...    ...           ...           ...         ...            ...   \n",
       "32554   27       Private        257302  Assoc-acdm             12   \n",
       "32555   40       Private        154374     HS-grad              9   \n",
       "32556   58       Private        151910     HS-grad              9   \n",
       "32557   22       Private        201490     HS-grad              9   \n",
       "32558   52  Self-emp-inc        287927     HS-grad              9   \n",
       "\n",
       "              Marital_status         Occupation   Relationship   Race     Sex  \\\n",
       "0                   Divorced  Handlers-cleaners  Not-in-family  White    Male   \n",
       "1         Married-civ-spouse  Handlers-cleaners        Husband  Black    Male   \n",
       "2         Married-civ-spouse     Prof-specialty           Wife  Black  Female   \n",
       "3         Married-civ-spouse    Exec-managerial           Wife  White  Female   \n",
       "4      Married-spouse-absent      Other-service  Not-in-family  Black  Female   \n",
       "...                      ...                ...            ...    ...     ...   \n",
       "32554     Married-civ-spouse       Tech-support           Wife  White  Female   \n",
       "32555     Married-civ-spouse  Machine-op-inspct        Husband  White    Male   \n",
       "32556                Widowed       Adm-clerical      Unmarried  White  Female   \n",
       "32557          Never-married       Adm-clerical      Own-child  White    Male   \n",
       "32558     Married-civ-spouse    Exec-managerial           Wife  White  Female   \n",
       "\n",
       "       Capital_gain  Capital_loss  Hours_per_week Native_country Income  \\\n",
       "0                 0             0              40  United-States  <=50K   \n",
       "1                 0             0              40  United-States  <=50K   \n",
       "2                 0             0              40           Cuba  <=50K   \n",
       "3                 0             0              40  United-States  <=50K   \n",
       "4                 0             0              16        Jamaica  <=50K   \n",
       "...             ...           ...             ...            ...    ...   \n",
       "32554             0             0              38  United-States  <=50K   \n",
       "32555             0             0              40  United-States   >50K   \n",
       "32556             0             0              40  United-States  <=50K   \n",
       "32557             0             0              20  United-States  <=50K   \n",
       "32558         15024             0              40  United-States   >50K   \n",
       "\n",
       "       Age_normalized  Age_avg_normalized  \n",
       "0            0.287671                 0.1  \n",
       "1            0.493151                 1.6  \n",
       "2            0.150685                -0.9  \n",
       "3            0.273973                 0.0  \n",
       "4            0.438356                 1.2  \n",
       "...               ...                 ...  \n",
       "32554        0.136986                -1.0  \n",
       "32555        0.315068                 0.3  \n",
       "32556        0.561644                 2.1  \n",
       "32557        0.068493                -1.5  \n",
       "32558        0.479452                 1.5  \n",
       "\n",
       "[30160 rows x 17 columns]"
      ],
      "text/html": [
       "<div>\n",
       "<style scoped>\n",
       "    .dataframe tbody tr th:only-of-type {\n",
       "        vertical-align: middle;\n",
       "    }\n",
       "\n",
       "    .dataframe tbody tr th {\n",
       "        vertical-align: top;\n",
       "    }\n",
       "\n",
       "    .dataframe thead th {\n",
       "        text-align: right;\n",
       "    }\n",
       "</style>\n",
       "<table border=\"1\" class=\"dataframe\">\n",
       "  <thead>\n",
       "    <tr style=\"text-align: right;\">\n",
       "      <th></th>\n",
       "      <th>Age</th>\n",
       "      <th>Work_class</th>\n",
       "      <th>Final_weight</th>\n",
       "      <th>Education</th>\n",
       "      <th>Education_num</th>\n",
       "      <th>Marital_status</th>\n",
       "      <th>Occupation</th>\n",
       "      <th>Relationship</th>\n",
       "      <th>Race</th>\n",
       "      <th>Sex</th>\n",
       "      <th>Capital_gain</th>\n",
       "      <th>Capital_loss</th>\n",
       "      <th>Hours_per_week</th>\n",
       "      <th>Native_country</th>\n",
       "      <th>Income</th>\n",
       "      <th>Age_normalized</th>\n",
       "      <th>Age_avg_normalized</th>\n",
       "    </tr>\n",
       "  </thead>\n",
       "  <tbody>\n",
       "    <tr>\n",
       "      <th>0</th>\n",
       "      <td>38</td>\n",
       "      <td>Private</td>\n",
       "      <td>215646</td>\n",
       "      <td>HS-grad</td>\n",
       "      <td>9</td>\n",
       "      <td>Divorced</td>\n",
       "      <td>Handlers-cleaners</td>\n",
       "      <td>Not-in-family</td>\n",
       "      <td>White</td>\n",
       "      <td>Male</td>\n",
       "      <td>0</td>\n",
       "      <td>0</td>\n",
       "      <td>40</td>\n",
       "      <td>United-States</td>\n",
       "      <td>&lt;=50K</td>\n",
       "      <td>0.287671</td>\n",
       "      <td>0.1</td>\n",
       "    </tr>\n",
       "    <tr>\n",
       "      <th>1</th>\n",
       "      <td>53</td>\n",
       "      <td>Private</td>\n",
       "      <td>234721</td>\n",
       "      <td>11th</td>\n",
       "      <td>7</td>\n",
       "      <td>Married-civ-spouse</td>\n",
       "      <td>Handlers-cleaners</td>\n",
       "      <td>Husband</td>\n",
       "      <td>Black</td>\n",
       "      <td>Male</td>\n",
       "      <td>0</td>\n",
       "      <td>0</td>\n",
       "      <td>40</td>\n",
       "      <td>United-States</td>\n",
       "      <td>&lt;=50K</td>\n",
       "      <td>0.493151</td>\n",
       "      <td>1.6</td>\n",
       "    </tr>\n",
       "    <tr>\n",
       "      <th>2</th>\n",
       "      <td>28</td>\n",
       "      <td>Private</td>\n",
       "      <td>338409</td>\n",
       "      <td>Bachelors</td>\n",
       "      <td>13</td>\n",
       "      <td>Married-civ-spouse</td>\n",
       "      <td>Prof-specialty</td>\n",
       "      <td>Wife</td>\n",
       "      <td>Black</td>\n",
       "      <td>Female</td>\n",
       "      <td>0</td>\n",
       "      <td>0</td>\n",
       "      <td>40</td>\n",
       "      <td>Cuba</td>\n",
       "      <td>&lt;=50K</td>\n",
       "      <td>0.150685</td>\n",
       "      <td>-0.9</td>\n",
       "    </tr>\n",
       "    <tr>\n",
       "      <th>3</th>\n",
       "      <td>37</td>\n",
       "      <td>Private</td>\n",
       "      <td>284582</td>\n",
       "      <td>Masters</td>\n",
       "      <td>14</td>\n",
       "      <td>Married-civ-spouse</td>\n",
       "      <td>Exec-managerial</td>\n",
       "      <td>Wife</td>\n",
       "      <td>White</td>\n",
       "      <td>Female</td>\n",
       "      <td>0</td>\n",
       "      <td>0</td>\n",
       "      <td>40</td>\n",
       "      <td>United-States</td>\n",
       "      <td>&lt;=50K</td>\n",
       "      <td>0.273973</td>\n",
       "      <td>0.0</td>\n",
       "    </tr>\n",
       "    <tr>\n",
       "      <th>4</th>\n",
       "      <td>49</td>\n",
       "      <td>Private</td>\n",
       "      <td>160187</td>\n",
       "      <td>9th</td>\n",
       "      <td>5</td>\n",
       "      <td>Married-spouse-absent</td>\n",
       "      <td>Other-service</td>\n",
       "      <td>Not-in-family</td>\n",
       "      <td>Black</td>\n",
       "      <td>Female</td>\n",
       "      <td>0</td>\n",
       "      <td>0</td>\n",
       "      <td>16</td>\n",
       "      <td>Jamaica</td>\n",
       "      <td>&lt;=50K</td>\n",
       "      <td>0.438356</td>\n",
       "      <td>1.2</td>\n",
       "    </tr>\n",
       "    <tr>\n",
       "      <th>...</th>\n",
       "      <td>...</td>\n",
       "      <td>...</td>\n",
       "      <td>...</td>\n",
       "      <td>...</td>\n",
       "      <td>...</td>\n",
       "      <td>...</td>\n",
       "      <td>...</td>\n",
       "      <td>...</td>\n",
       "      <td>...</td>\n",
       "      <td>...</td>\n",
       "      <td>...</td>\n",
       "      <td>...</td>\n",
       "      <td>...</td>\n",
       "      <td>...</td>\n",
       "      <td>...</td>\n",
       "      <td>...</td>\n",
       "      <td>...</td>\n",
       "    </tr>\n",
       "    <tr>\n",
       "      <th>32554</th>\n",
       "      <td>27</td>\n",
       "      <td>Private</td>\n",
       "      <td>257302</td>\n",
       "      <td>Assoc-acdm</td>\n",
       "      <td>12</td>\n",
       "      <td>Married-civ-spouse</td>\n",
       "      <td>Tech-support</td>\n",
       "      <td>Wife</td>\n",
       "      <td>White</td>\n",
       "      <td>Female</td>\n",
       "      <td>0</td>\n",
       "      <td>0</td>\n",
       "      <td>38</td>\n",
       "      <td>United-States</td>\n",
       "      <td>&lt;=50K</td>\n",
       "      <td>0.136986</td>\n",
       "      <td>-1.0</td>\n",
       "    </tr>\n",
       "    <tr>\n",
       "      <th>32555</th>\n",
       "      <td>40</td>\n",
       "      <td>Private</td>\n",
       "      <td>154374</td>\n",
       "      <td>HS-grad</td>\n",
       "      <td>9</td>\n",
       "      <td>Married-civ-spouse</td>\n",
       "      <td>Machine-op-inspct</td>\n",
       "      <td>Husband</td>\n",
       "      <td>White</td>\n",
       "      <td>Male</td>\n",
       "      <td>0</td>\n",
       "      <td>0</td>\n",
       "      <td>40</td>\n",
       "      <td>United-States</td>\n",
       "      <td>&gt;50K</td>\n",
       "      <td>0.315068</td>\n",
       "      <td>0.3</td>\n",
       "    </tr>\n",
       "    <tr>\n",
       "      <th>32556</th>\n",
       "      <td>58</td>\n",
       "      <td>Private</td>\n",
       "      <td>151910</td>\n",
       "      <td>HS-grad</td>\n",
       "      <td>9</td>\n",
       "      <td>Widowed</td>\n",
       "      <td>Adm-clerical</td>\n",
       "      <td>Unmarried</td>\n",
       "      <td>White</td>\n",
       "      <td>Female</td>\n",
       "      <td>0</td>\n",
       "      <td>0</td>\n",
       "      <td>40</td>\n",
       "      <td>United-States</td>\n",
       "      <td>&lt;=50K</td>\n",
       "      <td>0.561644</td>\n",
       "      <td>2.1</td>\n",
       "    </tr>\n",
       "    <tr>\n",
       "      <th>32557</th>\n",
       "      <td>22</td>\n",
       "      <td>Private</td>\n",
       "      <td>201490</td>\n",
       "      <td>HS-grad</td>\n",
       "      <td>9</td>\n",
       "      <td>Never-married</td>\n",
       "      <td>Adm-clerical</td>\n",
       "      <td>Own-child</td>\n",
       "      <td>White</td>\n",
       "      <td>Male</td>\n",
       "      <td>0</td>\n",
       "      <td>0</td>\n",
       "      <td>20</td>\n",
       "      <td>United-States</td>\n",
       "      <td>&lt;=50K</td>\n",
       "      <td>0.068493</td>\n",
       "      <td>-1.5</td>\n",
       "    </tr>\n",
       "    <tr>\n",
       "      <th>32558</th>\n",
       "      <td>52</td>\n",
       "      <td>Self-emp-inc</td>\n",
       "      <td>287927</td>\n",
       "      <td>HS-grad</td>\n",
       "      <td>9</td>\n",
       "      <td>Married-civ-spouse</td>\n",
       "      <td>Exec-managerial</td>\n",
       "      <td>Wife</td>\n",
       "      <td>White</td>\n",
       "      <td>Female</td>\n",
       "      <td>15024</td>\n",
       "      <td>0</td>\n",
       "      <td>40</td>\n",
       "      <td>United-States</td>\n",
       "      <td>&gt;50K</td>\n",
       "      <td>0.479452</td>\n",
       "      <td>1.5</td>\n",
       "    </tr>\n",
       "  </tbody>\n",
       "</table>\n",
       "<p>30160 rows × 17 columns</p>\n",
       "</div>"
      ]
     },
     "execution_count": 77,
     "metadata": {},
     "output_type": "execute_result"
    }
   ],
   "execution_count": 77
  },
  {
   "cell_type": "markdown",
   "id": "550cc3becc025431",
   "metadata": {},
   "source": [
    "Збережемо нормалізований датасет у файл `adult_cleaned_normalized.data`"
   ]
  },
  {
   "cell_type": "code",
   "execution_count": 60,
   "id": "d0a0b7bcf31c0862",
   "metadata": {
    "ExecuteTime": {
     "end_time": "2024-09-26T15:06:56.150929Z",
     "start_time": "2024-09-26T15:06:55.249754Z"
    }
   },
   "outputs": [],
   "source": [
    "df.to_csv(r'..\\Dataset\\adult_cleaned_normalized.data', index=False)"
   ]
  },
  {
   "cell_type": "markdown",
   "id": "be46517d88662e5b",
   "metadata": {},
   "source": [
    "Запишемо обраховані дані в окремий файл"
   ]
  },
  {
   "cell_type": "code",
   "id": "732dd8cddbf1832",
   "metadata": {
    "ExecuteTime": {
     "end_time": "2024-09-26T17:53:04.029713Z",
     "start_time": "2024-09-26T17:53:04.023383Z"
    }
   },
   "source": [
    "calculations = {\n",
    "    'Середнє значення `Age`': average_age,\n",
    "    'Середнє усічене значення `Age`': trimmed_avg_age,\n",
    "    'Медіана `Age`': median_age,\n",
    "    'Дисперсія `Age`': variance_age,\n",
    "    'Стандартне відхилення `Age`': standard_deviation_age,\n",
    "    'Середнє відхилення `Age`': mad_age,\n",
    "    'Абсолютне медіанне відхилення `Age`': mad_age_median\n",
    "}\n",
    "\n",
    "with open(r'..\\Dataset\\calculations.txt', 'w', encoding='utf-8') as file:\n",
    "    for key, value in calculations.items():\n",
    "        file.write(f\"{key}: {round(value, 3)}\\n\")"
   ],
   "outputs": [],
   "execution_count": 79
  },
  {
   "cell_type": "code",
   "execution_count": null,
   "id": "55293941f8163d19",
   "metadata": {},
   "outputs": [],
   "source": []
  }
 ],
 "metadata": {
  "kernelspec": {
   "display_name": "Python 3 (ipykernel)",
   "language": "python",
   "name": "python3"
  },
  "language_info": {
   "codemirror_mode": {
    "name": "ipython",
    "version": 3
   },
   "file_extension": ".py",
   "mimetype": "text/x-python",
   "name": "python",
   "nbconvert_exporter": "python",
   "pygments_lexer": "ipython3",
   "version": "3.11.5"
  }
 },
 "nbformat": 4,
 "nbformat_minor": 5
}
